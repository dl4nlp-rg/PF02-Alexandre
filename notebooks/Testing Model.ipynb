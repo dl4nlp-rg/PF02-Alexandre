{
 "cells": [
  {
   "cell_type": "markdown",
   "metadata": {},
   "source": [
    "## Import"
   ]
  },
  {
   "cell_type": "code",
   "execution_count": 1,
   "metadata": {},
   "outputs": [],
   "source": [
    "import sys\n",
    "import os"
   ]
  },
  {
   "cell_type": "code",
   "execution_count": 2,
   "metadata": {},
   "outputs": [],
   "source": [
    "sys.path.append(\"../\")\n",
    "sys.path.append(\"../pt_en_translator/\")"
   ]
  },
  {
   "cell_type": "code",
   "execution_count": 3,
   "metadata": {},
   "outputs": [],
   "source": [
    "import pt_en_translator.translator as tl"
   ]
  },
  {
   "cell_type": "markdown",
   "metadata": {},
   "source": [
    "## Prediction"
   ]
  },
  {
   "cell_type": "markdown",
   "metadata": {},
   "source": [
    "### En-Pt"
   ]
  },
  {
   "cell_type": "code",
   "execution_count": 4,
   "metadata": {},
   "outputs": [],
   "source": [
    "model = tl.PredictModel(\"../models/en-pt-wmt-ptt5.ckpt\", max_length=256)"
   ]
  },
  {
   "cell_type": "markdown",
   "metadata": {},
   "source": [
    "predicting single sentence"
   ]
  },
  {
   "cell_type": "code",
   "execution_count": 5,
   "metadata": {},
   "outputs": [
    {
     "data": {
      "text/plain": [
       "['Com o auxílio do Premium, sua escrita pode ser mais concisa, constrangedora e engajada para seu público']"
      ]
     },
     "execution_count": 5,
     "metadata": {},
     "output_type": "execute_result"
    }
   ],
   "source": [
    "model.predict_en_pt(\"With the help of Premium, your writing can be more concise, compelling, and engaging for your audience\")"
   ]
  },
  {
   "cell_type": "markdown",
   "metadata": {},
   "source": [
    "predicting batch"
   ]
  },
  {
   "cell_type": "code",
   "execution_count": 6,
   "metadata": {},
   "outputs": [],
   "source": [
    "batch = [\"With the help of Premium, your writing can be more concise, compelling, and engaging for your audience\",\n",
    "      \"I like to eat rice\"]"
   ]
  },
  {
   "cell_type": "code",
   "execution_count": 7,
   "metadata": {},
   "outputs": [
    {
     "data": {
      "text/plain": [
       "['Com o auxílio do Premium, sua escrita pode ser mais concisa, constrangedora e engajada para seu público',\n",
       " 'Eu gosto de comer arroz']"
      ]
     },
     "execution_count": 7,
     "metadata": {},
     "output_type": "execute_result"
    }
   ],
   "source": [
    "model.predict_batch_en_pt(batch)"
   ]
  },
  {
   "cell_type": "markdown",
   "metadata": {},
   "source": [
    "### Pt-En"
   ]
  },
  {
   "cell_type": "code",
   "execution_count": 8,
   "metadata": {},
   "outputs": [],
   "source": [
    "model_2 = tl.PredictModel(\"../models/pt-en-wmt-ptt5.ckpt\", max_length=256)"
   ]
  },
  {
   "cell_type": "markdown",
   "metadata": {},
   "source": [
    "predicting single sentence"
   ]
  },
  {
   "cell_type": "code",
   "execution_count": 9,
   "metadata": {},
   "outputs": [
    {
     "data": {
      "text/plain": [
       "['According to the Ministry of Economy, leaving the possibility of readjustment for some careers, such as police officers, doctors and teachers, could represent an increase in expenditures between R$ 98 billion and R$ 120 billion to the coffers of the Union, states and municipalities.']"
      ]
     },
     "execution_count": 9,
     "metadata": {},
     "output_type": "execute_result"
    }
   ],
   "source": [
    "model_2.predict_pt_en(\"Segundo o Ministério da Economia, deixar a possibilidade de reajuste para algumas \\\n",
    "                      carreiras, como policiais, médicos e professores, poderia representar um aumento de \\\n",
    "                      despesas entre R$ 98 bilhões e R$ 120 bilhões aos cofres da União, estados e municípios.\")"
   ]
  },
  {
   "cell_type": "markdown",
   "metadata": {},
   "source": [
    "predicting batch"
   ]
  },
  {
   "cell_type": "code",
   "execution_count": 10,
   "metadata": {},
   "outputs": [],
   "source": [
    "batch = [\"Segundo o Ministério da Economia, deixar a possibilidade de reajuste para algumas \\\n",
    "                      carreiras, como policiais, médicos e professores, é bom.\", \n",
    "         \"Isso poderia representar um aumento de despesas entre R$ 98 bilhões e R$ 120 bilhões aos cofres \\\n",
    "         da União, estados e municípios.\"]"
   ]
  },
  {
   "cell_type": "code",
   "execution_count": 11,
   "metadata": {},
   "outputs": [
    {
     "data": {
      "text/plain": [
       "['According to the Ministry of Economy, leaving the possibility of readjustment for some careers, such as police officers, doctors and teachers, is good.',\n",
       " 'This could represent an increase in expenditures between R$ 98 billion and R$ 120 billion to the coffers of the Union, states and municipalities.']"
      ]
     },
     "execution_count": 11,
     "metadata": {},
     "output_type": "execute_result"
    }
   ],
   "source": [
    "model_2.predict_batch_pt_en(batch)"
   ]
  },
  {
   "cell_type": "markdown",
   "metadata": {},
   "source": [
    "."
   ]
  },
  {
   "cell_type": "markdown",
   "metadata": {},
   "source": [
    "#### Attention in the predict_batch_pt_en / predict_batch_en_pt. We do not limit the batch size. If it does not fit your gpu, it will give 'out of gpu memory' error. You are responsible for setting the loop in your data for the tokenizer"
   ]
  },
  {
   "cell_type": "code",
   "execution_count": null,
   "metadata": {},
   "outputs": [],
   "source": []
  }
 ],
 "metadata": {
  "kernelspec": {
   "display_name": "Python 3",
   "language": "python",
   "name": "python3"
  },
  "language_info": {
   "codemirror_mode": {
    "name": "ipython",
    "version": 3
   },
   "file_extension": ".py",
   "mimetype": "text/x-python",
   "name": "python",
   "nbconvert_exporter": "python",
   "pygments_lexer": "ipython3",
   "version": "3.6.10"
  }
 },
 "nbformat": 4,
 "nbformat_minor": 4
}
